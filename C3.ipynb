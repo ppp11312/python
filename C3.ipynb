{
 "cells": [
  {
   "cell_type": "markdown",
   "metadata": {},
   "source": [
    "# 流程控制"
   ]
  },
  {
   "cell_type": "markdown",
   "metadata": {},
   "source": [
    "## if else\n",
    "如果....否則"
   ]
  },
  {
   "cell_type": "code",
   "execution_count": 1,
   "metadata": {},
   "outputs": [
    {
     "name": "stdout",
     "output_type": "stream",
     "text": [
      "b是比較大的數\n"
     ]
    }
   ],
   "source": [
    "a=3\n",
    "b=4\n",
    "if a <=b:\n",
    "    print('b是比較大的數')\n",
    "else:\n",
    "    print('a是比較大的數')"
   ]
  },
  {
   "cell_type": "markdown",
   "metadata": {},
   "source": [
    "## for 迴圈"
   ]
  },
  {
   "cell_type": "code",
   "execution_count": 3,
   "metadata": {},
   "outputs": [
    {
     "name": "stdout",
     "output_type": "stream",
     "text": [
      "55\n"
     ]
    }
   ],
   "source": [
    "sum=0\n",
    "for count in range(1,11,1): #起始為1  結束為10 最大數須減1故不出現11\n",
    "    sum = sum + count\n",
    "print(sum)"
   ]
  },
  {
   "cell_type": "code",
   "execution_count": 4,
   "metadata": {},
   "outputs": [
    {
     "name": "stdout",
     "output_type": "stream",
     "text": [
      "55\n"
     ]
    }
   ],
   "source": [
    "sum=0\n",
    "for count in range(1,11): \n",
    "    sum = sum + count\n",
    "print(sum)"
   ]
  },
  {
   "cell_type": "code",
   "execution_count": 5,
   "metadata": {},
   "outputs": [
    {
     "name": "stdout",
     "output_type": "stream",
     "text": [
      "55\n"
     ]
    }
   ],
   "source": [
    "sum=0\n",
    "for count in range(11):\n",
    "    sum = sum + count\n",
    "print(sum)"
   ]
  },
  {
   "cell_type": "code",
   "execution_count": 1,
   "metadata": {},
   "outputs": [
    {
     "name": "stdout",
     "output_type": "stream",
     "text": [
      "y\n",
      "o\n",
      "u\n",
      "t\n",
      "u\n",
      "b\n",
      "e\n",
      "end list\n"
     ]
    }
   ],
   "source": [
    "my='youtube'\n",
    "for word in my:\n",
    "    print(word)\n",
    "else:\n",
    "    print('end list')#前迴圈執行完畢則執行此程式"
   ]
  },
  {
   "cell_type": "markdown",
   "metadata": {},
   "source": [
    "### 一個農場雞兔共有35頭，94隻腳，雞兔各有多少隻動物"
   ]
  },
  {
   "cell_type": "code",
   "execution_count": 9,
   "metadata": {},
   "outputs": [
    {
     "name": "stdout",
     "output_type": "stream",
     "text": [
      "雞有 23 隻, 兔子有 12 隻\n"
     ]
    }
   ],
   "source": [
    "for chicken in range(0,35):\n",
    "    rabbit=35-chicken\n",
    "    if (2*chicken+4*rabbit)==94:\n",
    "        print('雞有',chicken,'隻, 兔子有',rabbit,'隻')\n",
    "        break\n",
    "else:\n",
    "    print('無解')"
   ]
  },
  {
   "cell_type": "markdown",
   "metadata": {},
   "source": [
    "## while迴圈"
   ]
  },
  {
   "cell_type": "code",
   "execution_count": 11,
   "metadata": {},
   "outputs": [
    {
     "name": "stdout",
     "output_type": "stream",
     "text": [
      "1+2+3+...+10 55\n"
     ]
    }
   ],
   "source": [
    "sum=0\n",
    "count=1\n",
    "while count <=10:\n",
    "    sum=sum+count\n",
    "    count=count+1\n",
    "print('1+2+3+...+10', sum)"
   ]
  },
  {
   "cell_type": "code",
   "execution_count": 3,
   "metadata": {},
   "outputs": [
    {
     "name": "stdout",
     "output_type": "stream",
     "text": [
      "86 年以後，存款加倍，為 23530 元\n"
     ]
    }
   ],
   "source": [
    "x=10000\n",
    "year=0\n",
    "while x <= 23456:\n",
    "    year += 1\n",
    "    x=x*1.01\n",
    "print(str(year),\"年以後，存款加倍，為\",int(x),\"元\")"
   ]
  },
  {
   "cell_type": "markdown",
   "metadata": {},
   "source": [
    "### 猜數字"
   ]
  },
  {
   "cell_type": "code",
   "execution_count": 2,
   "metadata": {},
   "outputs": [
    {
     "name": "stdout",
     "output_type": "stream",
     "text": [
      "輸入1~10：1\n",
      "猜錯ㄌ\n",
      "輸入1~10：1\n",
      "猜錯ㄌ\n",
      "輸入1~10：1\n",
      "猜錯ㄌ\n",
      "輸入1~10：12\n",
      "猜錯ㄌ\n",
      "輸入1~10：2\n",
      "猜錯ㄌ\n",
      "輸入1~10：3\n",
      "猜錯ㄌ\n",
      "輸入1~10：4\n",
      "你猜對ㄌ\n"
     ]
    }
   ],
   "source": [
    "import random\n",
    "nb = random.randint(1,10)\n",
    "\n",
    "while True :\n",
    "    Ans=int(input(\"輸入1~10：\"))\n",
    "    if Ans ==nb :\n",
    "        print(\"你猜對ㄌ\")\n",
    "        break\n",
    "    else:\n",
    "        print(\"猜錯ㄌ\")"
   ]
  },
  {
   "cell_type": "code",
   "execution_count": null,
   "metadata": {},
   "outputs": [],
   "source": []
  }
 ],
 "metadata": {
  "kernelspec": {
   "display_name": "Python 3",
   "language": "python",
   "name": "python3"
  },
  "language_info": {
   "codemirror_mode": {
    "name": "ipython",
    "version": 3
   },
   "file_extension": ".py",
   "mimetype": "text/x-python",
   "name": "python",
   "nbconvert_exporter": "python",
   "pygments_lexer": "ipython3",
   "version": "3.7.4"
  }
 },
 "nbformat": 4,
 "nbformat_minor": 2
}
