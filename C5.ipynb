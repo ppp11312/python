{
 "cells": [
  {
   "cell_type": "markdown",
   "metadata": {},
   "source": [
    "# Numpy"
   ]
  },
  {
   "cell_type": "code",
   "execution_count": 1,
   "metadata": {},
   "outputs": [
    {
     "name": "stdout",
     "output_type": "stream",
     "text": [
      "[1, 2, 3, 4, 5, 1, 2, 3, 4, 5, 1, 2, 3, 4, 5]\n"
     ]
    }
   ],
   "source": [
    "a = [1,2,3,4,5]\n",
    "print(a*3)"
   ]
  },
  {
   "cell_type": "code",
   "execution_count": 3,
   "metadata": {},
   "outputs": [
    {
     "name": "stdout",
     "output_type": "stream",
     "text": [
      "[ 3  6  9 12 15]\n"
     ]
    }
   ],
   "source": [
    "import numpy as np\n",
    "b = np.array([1,2,3,4,5])\n",
    "print(b*3)"
   ]
  },
  {
   "cell_type": "code",
   "execution_count": 4,
   "metadata": {},
   "outputs": [
    {
     "name": "stdout",
     "output_type": "stream",
     "text": [
      "<class 'numpy.ndarray'>\n",
      "1\n",
      "(5,)\n",
      "int32\n"
     ]
    }
   ],
   "source": [
    "print(type(b))\n",
    "print(b.ndim) #ndarray的維度\n",
    "print(b.shape) #ndarray的shape\n",
    "print(b.dtype) #ndarray的資料型態"
   ]
  },
  {
   "cell_type": "code",
   "execution_count": 5,
   "metadata": {},
   "outputs": [
    {
     "name": "stdout",
     "output_type": "stream",
     "text": [
      "[0. 0. 0. 0. 0. 0.]\n",
      "[[0. 0. 0. 0. 0. 0.]\n",
      " [0. 0. 0. 0. 0. 0.]\n",
      " [0. 0. 0. 0. 0. 0.]]\n",
      "[[[0. 0. 0. 0. 0. 0.]\n",
      "  [0. 0. 0. 0. 0. 0.]\n",
      "  [0. 0. 0. 0. 0. 0.]]\n",
      "\n",
      " [[0. 0. 0. 0. 0. 0.]\n",
      "  [0. 0. 0. 0. 0. 0.]\n",
      "  [0. 0. 0. 0. 0. 0.]]]\n"
     ]
    }
   ],
   "source": [
    "print(np.zeros(6)) #產生六個元素均為0的一維array\n",
    "print(np.zeros((3,6))) #產生18個元素捐維0的二維array\n",
    "print(np.zeros((2,3,6))) #產生36個元素均為0的三維array"
   ]
  },
  {
   "cell_type": "code",
   "execution_count": 6,
   "metadata": {},
   "outputs": [
    {
     "name": "stdout",
     "output_type": "stream",
     "text": [
      "[0. 0. 0. 0. 0. 0. 0. 0. 0. 0. 0. 0. 0. 0. 0. 0.]\n",
      "(16,)\n",
      "[[0. 0. 0. 0.]\n",
      " [0. 0. 0. 0.]\n",
      " [0. 0. 0. 0.]\n",
      " [0. 0. 0. 0.]]\n",
      "(4, 4)\n"
     ]
    }
   ],
   "source": [
    "a = np.zeros(16)\n",
    "print(a)\n",
    "print(a.shape)\n",
    "b = a.reshape((4,4)) #改變資料的維度維4x4\n",
    "print(b)\n",
    "print(b.shape)"
   ]
  },
  {
   "cell_type": "markdown",
   "metadata": {},
   "source": [
    "### ndarry 進階操作"
   ]
  },
  {
   "cell_type": "code",
   "execution_count": 9,
   "metadata": {},
   "outputs": [
    {
     "name": "stdout",
     "output_type": "stream",
     "text": [
      "[0 1 2 3 4 5 6 7 8 9]\n",
      "0\n",
      "[0 1 2 3 4]\n"
     ]
    }
   ],
   "source": [
    "my_array = np.arange(10)\n",
    "print(my_array)\n",
    "print(my_array[0])\n",
    "print(my_array[0:5]) #取0, 1, 2, 3, 4位置的值"
   ]
  },
  {
   "cell_type": "code",
   "execution_count": 10,
   "metadata": {},
   "outputs": [
    {
     "name": "stdout",
     "output_type": "stream",
     "text": [
      "[[0 1 2 3 4]\n",
      " [5 6 7 8 9]]\n",
      "[[0 1 2 3 4]\n",
      " [5 6 7 8 9]]\n",
      "[[0 1 2 3 4]\n",
      " [5 6 7 8 9]]\n"
     ]
    }
   ],
   "source": [
    "a=np.array([[0,1,2,3,4],[5,6,7,8,9]])\n",
    "print(a)\n",
    "b=np.array([np.arange(0,5),np.arange(5,10)])\n",
    "print(b)\n",
    "c=np.array(np.arange(0,10).reshape((2,5)))\n",
    "print(c)"
   ]
  },
  {
   "cell_type": "markdown",
   "metadata": {},
   "source": [
    "### 二維陣列取值"
   ]
  },
  {
   "cell_type": "code",
   "execution_count": 1,
   "metadata": {},
   "outputs": [
    {
     "name": "stdout",
     "output_type": "stream",
     "text": [
      "[[0 1 2 3 4]\n",
      " [5 6 7 8 9]]\n",
      "[0 1 2 3 4]\n",
      "[5 6 7 8 9]\n",
      "[0 5]\n",
      "6\n"
     ]
    }
   ],
   "source": [
    "import numpy as np\n",
    "my_2d_array=np.array(np.arange(0,10).reshape((2,5)))\n",
    "print(my_2d_array)\n",
    "print(my_2d_array[0,:]) #第0列的元素\n",
    "print(my_2d_array[1,]) #第1列的元素\n",
    "print(my_2d_array[:,0]) #第0欄的元素\n",
    "print(my_2d_array[1, 1]) #第2列第2欄的元素"
   ]
  },
  {
   "cell_type": "code",
   "execution_count": 2,
   "metadata": {},
   "outputs": [
    {
     "name": "stdout",
     "output_type": "stream",
     "text": [
      "['蔡G', '新人', '老鳥']\n",
      "[500, 200, 50]\n"
     ]
    }
   ],
   "source": [
    "import numpy as np\n",
    "grop = [\"蔡G\",\"新人\",\"老鳥\"]\n",
    "pepo = [500, 200, 50]\n",
    "\n",
    "grop_ar = np.array(grop)\n",
    "pepo_ar = np.array(pepo)\n",
    "\n",
    "print(grop)\n",
    "print(pepo)"
   ]
  },
  {
   "cell_type": "code",
   "execution_count": 6,
   "metadata": {},
   "outputs": [
    {
     "name": "stdout",
     "output_type": "stream",
     "text": [
      "[ True  True False]\n",
      "['蔡G' '新人' '老鳥']\n"
     ]
    }
   ],
   "source": [
    "#用人數去篩選組別\n",
    "print(pepo_ar >= 100)\n",
    "print(grop_ar[pepo_ar>=10])"
   ]
  },
  {
   "cell_type": "code",
   "execution_count": 7,
   "metadata": {},
   "outputs": [
    {
     "name": "stdout",
     "output_type": "stream",
     "text": [
      "[ True  True False]\n",
      "[500 200]\n"
     ]
    }
   ],
   "source": [
    "#用組別去篩選人數\n",
    "print(grop_ar != \"老鳥\")\n",
    "print(pepo_ar[grop_ar != \"老鳥\"])"
   ]
  },
  {
   "cell_type": "markdown",
   "metadata": {},
   "source": [
    "### ndarray 空值 nan 無限大 inf"
   ]
  },
  {
   "cell_type": "code",
   "execution_count": 9,
   "metadata": {},
   "outputs": [
    {
     "name": "stdout",
     "output_type": "stream",
     "text": [
      "[56.  8. 19. 14.  6. nan]\n"
     ]
    }
   ],
   "source": [
    "nan_array = np.array([56, 8, 19, 14, 6, np.nan])\n",
    "print(nan_array)"
   ]
  },
  {
   "cell_type": "markdown",
   "metadata": {},
   "source": [
    "### 生成10組標準常態分配(平均為0，標準差為1的常態分配)隨機變數"
   ]
  },
  {
   "cell_type": "code",
   "execution_count": 10,
   "metadata": {},
   "outputs": [
    {
     "name": "stdout",
     "output_type": "stream",
     "text": [
      "[-0.43226576  0.55873338 -1.39509241 -1.02470465  0.82171922 -1.35186642\n",
      "  0.06256788  0.49141982 -0.25672612  0.6070952 ]\n"
     ]
    }
   ],
   "source": [
    "normal_samples = np.random.normal(size=10)\n",
    "print(normal_samples)"
   ]
  },
  {
   "cell_type": "markdown",
   "metadata": {},
   "source": [
    "### 生成10組介於0~1之間的隨機變數"
   ]
  },
  {
   "cell_type": "code",
   "execution_count": 14,
   "metadata": {},
   "outputs": [
    {
     "name": "stdout",
     "output_type": "stream",
     "text": [
      "[0.56751003 0.48318123 0.71931017 0.15279441 0.30392853 0.02860806\n",
      " 0.60122213 0.03891488 0.17011074 0.57983538]\n"
     ]
    }
   ],
   "source": [
    "uniform_samples = np.random.uniform(size=10)\n",
    "print(uniform_samples)"
   ]
  },
  {
   "cell_type": "code",
   "execution_count": null,
   "metadata": {},
   "outputs": [],
   "source": []
  }
 ],
 "metadata": {
  "kernelspec": {
   "display_name": "Python 3",
   "language": "python",
   "name": "python3"
  },
  "language_info": {
   "codemirror_mode": {
    "name": "ipython",
    "version": 3
   },
   "file_extension": ".py",
   "mimetype": "text/x-python",
   "name": "python",
   "nbconvert_exporter": "python",
   "pygments_lexer": "ipython3",
   "version": "3.7.4"
  }
 },
 "nbformat": 4,
 "nbformat_minor": 2
}
